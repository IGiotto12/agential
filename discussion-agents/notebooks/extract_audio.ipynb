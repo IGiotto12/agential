{
 "cells": [
  {
   "cell_type": "markdown",
   "metadata": {},
   "source": [
    "# 🔊 Extract Audio 🔊"
   ]
  },
  {
   "cell_type": "markdown",
   "metadata": {},
   "source": [
    "This notebook will focus on extracting audio along with any other useful metadata from the video.\n",
    "\n",
    "## Table of Contents\n",
    "\n",
    "1. Setup\n",
    "2. Extraction\n"
   ]
  },
  {
   "cell_type": "markdown",
   "metadata": {},
   "source": [
    "## 1. Setup"
   ]
  },
  {
   "cell_type": "code",
   "execution_count": 5,
   "metadata": {},
   "outputs": [],
   "source": [
    "import os\n",
    "import pytube\n",
    "from pathlib import Path\n",
    "from pytube import YouTube"
   ]
  },
  {
   "cell_type": "markdown",
   "metadata": {},
   "source": [
    "## 2. Extraction"
   ]
  },
  {
   "cell_type": "code",
   "execution_count": 4,
   "metadata": {},
   "outputs": [],
   "source": [
    "def to_snake_case(name):\n",
    "    return name.lower().replace(\" \", \"_\").replace(\":\", \"_\").replace(\"__\", \"_\")\n",
    "\n",
    "def download_youtube_audio(url, file_name=None, out_dir=\".\"):\n",
    "    \"Download the audio from a YouTube video\"\n",
    "    yt = YouTube(url)\n",
    "    if file_name is None:\n",
    "        file_name = Path(out_dir, to_snake_case(yt.title)).with_suffix(\".mp4\")\n",
    "    yt_stream = (yt.streams\n",
    "            .filter(only_audio=True, file_extension=\"mp4\")\n",
    "            .order_by(\"abr\")\n",
    "            .desc())\n",
    "    return yt_stream.first().download(filename=file_name)"
   ]
  },
  {
   "cell_type": "code",
   "execution_count": 9,
   "metadata": {},
   "outputs": [],
   "source": [
    "url = \"https://youtu.be/8ESJRRrVllI\"\n",
    "root = \"..\"\n",
    "out_dir = os.path.join(root, \"data\", \"external\", \"audio\")\n",
    "os.makedirs(out_dir, exist_ok=True)\n",
    "audio = download_youtube_audio(url=url, out_dir=out_dir)"
   ]
  },
  {
   "cell_type": "code",
   "execution_count": null,
   "metadata": {},
   "outputs": [],
   "source": []
  }
 ],
 "metadata": {
  "kernelspec": {
   "display_name": "discussion-agents",
   "language": "python",
   "name": "python3"
  },
  "language_info": {
   "codemirror_mode": {
    "name": "ipython",
    "version": 3
   },
   "file_extension": ".py",
   "mimetype": "text/x-python",
   "name": "python",
   "nbconvert_exporter": "python",
   "pygments_lexer": "ipython3",
   "version": "3.9.17"
  },
  "orig_nbformat": 4
 },
 "nbformat": 4,
 "nbformat_minor": 2
}
