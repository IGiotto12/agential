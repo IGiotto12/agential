{
 "cells": [
  {
   "cell_type": "code",
   "execution_count": null,
   "metadata": {},
   "outputs": [],
   "source": [
    "from agential.cog.prompts.critic import (\n",
    "    ################### HUMANEVAL ###################\n",
    "\n",
    "    # Main prompt prompt/fewshot examples.\n",
    "    CRITIC_POT_INSTRUCTION_HUMANEVAL,\n",
    "    HUMANEVAL_FEWSHOT_EXAMPLES_POT,\n",
    "\n",
    "    CRITIC_POT_INSTRUCTION_WITH_TESTS_HUMANEVAL,\n",
    "    HUMANEVAL_FEWSHOT_EXAMPLES_POT_WITH_TESTS,\n",
    "\n",
    "    # Critic prompt/fewshot examples.\n",
    "    CRITIC_CRITIQUE_INSTRUCTION_HUMANEVAL,\n",
    "    HUMANEVAL_FEWSHOT_EXAMPLES_CRITIC,\n",
    "    \n",
    "    CRITIC_CRITIQUE_NO_TOOL_INSTRUCTION_HUMANEVAL,\n",
    "    HUMANEVAL_FEWSHOT_EXAMPLES_CRITIC_NO_TOOL,\n",
    "\n",
    "    # Generate unit tests prompt/fewshot examples.\n",
    "    CRITIC_POT_INSTRUCTION_TEST_HUMANEVAL,\n",
    "    HUMANEVAL_FEWSHOT_EXAMPLES_POT_TEST,\n",
    "\n",
    "    ################### MBPP ###################\n",
    "\n",
    "    # Main prompt/fewshot examples.\n",
    "    CRITIC_POT_INSTRUCTION_WITH_TESTS_MBPP,\n",
    "    MBPP_FEWSHOT_EXAMPLES_POT_WITH_TESTS,\n",
    "\n",
    "    # Critic prompt/fewshot examples.\n",
    "    CRITIC_CRITIQUE_INSTRUCTION_MBPP,\n",
    "    MBPP_FEWSHOT_EXAMPLES_CRITIC,  # TODO\n",
    "\n",
    "    CRITIC_CRITIQUE_NO_TOOL_INSTRUCTION_MBPP,  # TODO\n",
    "    MBPP_FEWSHOT_EXAMPLES_CRITIC_NO_TOOL  # TODO\n",
    ")\n",
    "from agential.cog.agent.critic import CriticAgent\n",
    "from langchain_community.chat_models.openai import ChatOpenAI\n",
    "\n",
    "import warnings\n",
    "warnings.filterwarnings(\"ignore\")\n",
    "\n",
    "import dotenv\n",
    "\n",
    "dotenv.load_dotenv()\n",
    "\n",
    "llm = ChatOpenAI()"
   ]
  },
  {
   "cell_type": "code",
   "execution_count": null,
   "metadata": {},
   "outputs": [],
   "source": [
    "from agential.cog.functional.critic import safe_execute\n",
    "\n",
    "a = \"\"\"import heapq as hq\n",
    "\n",
    "def heap_queue_largest(nums, n):\n",
    "    return sorted(nums)[-n:]\n",
    "\n",
    "assert heap_queue_largest([25, 35, 22, 85, 14, 65, 75, 22, 58], 3) == [85, 75, 65], \"Test failed for top 3\"\n",
    "assert heap_queue_largest([25, 35, 22, 85, 14, 65, 75, 22, 58], 2) == [85, 75], \"Test failed for top 2\"\n",
    "assert heap_queue_largest([25, 35, 22, 85, 14, 65, 75, 22, 58], 5) == [85, 75, 65, 58, 35], \"Test failed for top 5\"\n",
    "\"\"\"\n",
    "\n",
    "safe_execute(a)"
   ]
  },
  {
   "cell_type": "code",
   "execution_count": null,
   "metadata": {},
   "outputs": [],
   "source": []
  },
  {
   "cell_type": "code",
   "execution_count": null,
   "metadata": {},
   "outputs": [],
   "source": []
  },
  {
   "cell_type": "code",
   "execution_count": null,
   "metadata": {},
   "outputs": [],
   "source": [
    "agent = CriticAgent(\n",
    "    llm=llm,\n",
    "    mode=\"code\"\n",
    ")"
   ]
  },
  {
   "cell_type": "code",
   "execution_count": null,
   "metadata": {},
   "outputs": [],
   "source": [
    "question = \"\"\"from typing import List \n",
    "\n",
    "def has_close_elements(numbers: List[float], threshold: float) -> bool: \n",
    "    \\\"\\\"\\\"Check if in given list of numbers, are any two numbers closer to each other than given threshold. \n",
    "    >>> has_close_elements([1.0, 2.0, 3.0], 0.5) False \n",
    "    >>> has_close_elements([1.0, 2.8, 3.0, 4.0, 5.0, 2.0], 0.3) True\n",
    "    \\\"\\\"\\\"\n",
    "\"\"\"\n",
    "\n",
    "tests = \"\"\"assert has_close_elements([1.0, 2.0, 3.9, 4.0, 5.0, 2.2], 0.3) == True, \"THIS TEST IS FAILING\"\n",
    "assert has_close_elements([1.0, 2.0, 3.9, 4.0, 5.0, 2.2], 0.05) == False\n",
    "assert has_close_elements([1.0, 2.0, 5.9, 4.0, 5.0], 0.95) == True\n",
    "assert has_close_elements([1.0, 2.0, 5.9, 4.0, 5.0], 0.8) == False\n",
    "assert has_close_elements([1.0, 2.0, 3.0, 4.0, 5.0, 2.0], 0.1) == True\n",
    "assert has_close_elements([1.1, 2.2, 3.1, 4.1, 5.1], 1.0) == True\n",
    "assert has_close_elements([1.1, 2.2, 3.1, 4.1, 5.1], 0.5) == False\n",
    "\"\"\""
   ]
  },
  {
   "cell_type": "code",
   "execution_count": 3,
   "metadata": {},
   "outputs": [],
   "source": [
    "import builtins\n",
    "import sys\n",
    "\n",
    "def exe():\n",
    "    exec(\n",
    "        \"\"\"from collections import Counter\n",
    "\n",
    "def function():\n",
    "    a = Counter(\"bbbb\")\n",
    "    print('Hello Worlds!')\n",
    "\n",
    "function()\n",
    "\"\"\", {\"__builtin__\": builtins, \"sys\": sys}\n",
    "    )"
   ]
  },
  {
   "cell_type": "code",
   "execution_count": 4,
   "metadata": {},
   "outputs": [
    {
     "name": "stdout",
     "output_type": "stream",
     "text": [
      "Hello Worlds!\n"
     ]
    }
   ],
   "source": [
    "exe()"
   ]
  },
  {
   "cell_type": "code",
   "execution_count": null,
   "metadata": {},
   "outputs": [],
   "source": []
  },
  {
   "cell_type": "code",
   "execution_count": null,
   "metadata": {},
   "outputs": [],
   "source": []
  },
  {
   "cell_type": "code",
   "execution_count": null,
   "metadata": {},
   "outputs": [],
   "source": []
  },
  {
   "cell_type": "code",
   "execution_count": null,
   "metadata": {},
   "outputs": [],
   "source": [
    "out = agent.generate(\n",
    "    question=question,\n",
    "    examples=HUMANEVAL_FEWSHOT_EXAMPLES_POT_WITH_TESTS,\n",
    "    prompt=CRITIC_POT_INSTRUCTION_WITH_TESTS_HUMANEVAL,\n",
    "    additional_keys={\"tests\": tests},\n",
    "    critique_examples=HUMANEVAL_FEWSHOT_EXAMPLES_CRITIC,\n",
    "    critique_prompt=CRITIC_CRITIQUE_INSTRUCTION_HUMANEVAL,\n",
    "    use_interpreter_tool=True,\n",
    "    tests=tests,\n",
    "    test_examples=\"\",\n",
    "    test_prompt=\"\"\n",
    ")"
   ]
  },
  {
   "cell_type": "code",
   "execution_count": null,
   "metadata": {},
   "outputs": [],
   "source": []
  }
 ],
 "metadata": {
  "kernelspec": {
   "display_name": "agential",
   "language": "python",
   "name": "python3"
  },
  "language_info": {
   "codemirror_mode": {
    "name": "ipython",
    "version": 3
   },
   "file_extension": ".py",
   "mimetype": "text/x-python",
   "name": "python",
   "nbconvert_exporter": "python",
   "pygments_lexer": "ipython3",
   "version": "3.11.9"
  }
 },
 "nbformat": 4,
 "nbformat_minor": 2
}
